{
 "cells": [
  {
   "cell_type": "markdown",
   "metadata": {},
   "source": [
    "## Matrix Addition"
   ]
  },
  {
   "cell_type": "code",
   "execution_count": 10,
   "metadata": {},
   "outputs": [],
   "source": [
    "import numpy as np\n",
    "import random"
   ]
  },
  {
   "cell_type": "code",
   "execution_count": 7,
   "metadata": {},
   "outputs": [
    {
     "name": "stdout",
     "output_type": "stream",
     "text": [
      "[1, 2]\n"
     ]
    }
   ],
   "source": [
    "a = [1]\n",
    "b = [2]\n",
    "\n",
    "print(a+b)"
   ]
  },
  {
   "cell_type": "code",
   "execution_count": 52,
   "metadata": {},
   "outputs": [
    {
     "name": "stdout",
     "output_type": "stream",
     "text": [
      "[4, 6]\n"
     ]
    }
   ],
   "source": [
    "a = [(1,2)]\n",
    "b = [(3,4)]\n",
    "c = []\n",
    "\n",
    "for index, row in enumerate(a):\n",
    "    for position, integer in enumerate(row):\n",
    "        c.append(a[index][position] + b[index][position])\n",
    "    \n",
    "print(c)\n",
    "\n",
    "# print(a[0][0])"
   ]
  },
  {
   "cell_type": "code",
   "execution_count": 67,
   "metadata": {},
   "outputs": [],
   "source": [
    "def check_matricies_size(matrix_one, matrix_two):\n",
    "    for index, row in enumerate(matrix_one):\n",
    "        return len(matrix_one[index]) == len(matrix_two[index])"
   ]
  },
  {
   "cell_type": "code",
   "execution_count": 68,
   "metadata": {},
   "outputs": [
    {
     "name": "stdout",
     "output_type": "stream",
     "text": [
      "It works!\n",
      "It works!\n",
      "It works!\n",
      "It works!\n"
     ]
    }
   ],
   "source": [
    "test(check_matricies_size([(1, 1)], [(2, 2)]), True)\n",
    "test(check_matricies_size([(1, 1), (2, 2)], [(3, 3), (4, 4)]), True)\n",
    "test(check_matricies_size(a, b), True)\n",
    "test(check_matricies_size([(1, 1, 3)], [(2, 2)]), False)"
   ]
  },
  {
   "cell_type": "code",
   "execution_count": 69,
   "metadata": {},
   "outputs": [],
   "source": [
    "def matrix_addition(matrix_one, matrix_two):\n",
    "    same_size = check_matricies_size(matrix_one, matrix_two)\n",
    "    sum_of_matricies = []\n",
    "    \n",
    "    if same_size:\n",
    "        for index, row in enumerate(matrix_one):\n",
    "            for position, integer in enumerate(row):\n",
    "                sum_of_matricies.append(matrix_one[index][position] + matrix_two[index][position]) \n",
    "        return sum_of_matricies\n",
    "    else:\n",
    "        return \"Can't be added\""
   ]
  },
  {
   "cell_type": "code",
   "execution_count": 70,
   "metadata": {},
   "outputs": [],
   "source": [
    "a = [(1, 2), \n",
    "     (4, 5)]\n",
    "\n",
    "b = [(2, 4), \n",
    "     (1, 3)]"
   ]
  },
  {
   "cell_type": "code",
   "execution_count": 80,
   "metadata": {},
   "outputs": [
    {
     "name": "stdout",
     "output_type": "stream",
     "text": [
      "[15, 30, 45, 60, 75, 90]\n"
     ]
    }
   ],
   "source": [
    "cw = [(10, 20), (30, 40), (50, 60)]\n",
    "wd = [(5, 10), (15, 20), (25, 30)]\n",
    "sum_of_matricies = []\n",
    "\n",
    "for index, row in enumerate(cw):\n",
    "    for position, integer in enumerate(row):\n",
    "        sum_of_matricies.append(cw[index][position] + wd[index][position])\n",
    "\n",
    "print(sum_of_matricies)\n",
    "\n",
    "\n",
    "# [(15, 30), (45, 60), (75, 90)]"
   ]
  },
  {
   "cell_type": "code",
   "execution_count": 75,
   "metadata": {},
   "outputs": [
    {
     "data": {
      "text/plain": [
       "(1, 2, 3, 4)"
      ]
     },
     "execution_count": 75,
     "metadata": {},
     "output_type": "execute_result"
    }
   ],
   "source": [
    "(1, 2) + (3,4)"
   ]
  },
  {
   "cell_type": "code",
   "execution_count": 71,
   "metadata": {},
   "outputs": [],
   "source": [
    "def test(actual, expected):\n",
    "    if actual == expected:\n",
    "        print(\"It works!\")\n",
    "    else:\n",
    "        print(f\"I expected {expected} but got {actual}\")"
   ]
  },
  {
   "cell_type": "code",
   "execution_count": 72,
   "metadata": {},
   "outputs": [
    {
     "name": "stdout",
     "output_type": "stream",
     "text": [
      "It works!\n",
      "I expected [(4, 4), (6, 6)] but got [4, 4, 6, 6]\n",
      "I expected [(3, 6), (5, 8)] but got [3, 6, 5, 8]\n",
      "It works!\n"
     ]
    }
   ],
   "source": [
    "test(matrix_addition([(1, 1)], [(2, 2)]), [3, 3])\n",
    "test(matrix_addition([(1, 1), (2, 2)], [(3, 3), (4, 4)]), [(4, 4), (6, 6)])\n",
    "test(matrix_addition(a, b), [(3, 6), (5, 8)])\n",
    "test(matrix_addition([(1, 1, 3)], [(2, 2)]), \"Can't be added\")\n",
    "test(matrix_addition([(10, 20), (30, 40), (50, 60)], [(5, 10), (15, 20), (25, 30)]), [(15, 30), (45, 60), (75, 90)])"
   ]
  },
  {
   "cell_type": "code",
   "execution_count": null,
   "metadata": {},
   "outputs": [],
   "source": [
    "def make_matricies():\n",
    "    pass"
   ]
  },
  {
   "cell_type": "markdown",
   "metadata": {},
   "source": [
    "## Multiply Matrix by Constant"
   ]
  },
  {
   "cell_type": "code",
   "execution_count": null,
   "metadata": {},
   "outputs": [],
   "source": []
  },
  {
   "cell_type": "markdown",
   "metadata": {},
   "source": [
    "## Matrix Multiplication"
   ]
  },
  {
   "cell_type": "code",
   "execution_count": null,
   "metadata": {},
   "outputs": [],
   "source": []
  }
 ],
 "metadata": {
  "kernelspec": {
   "display_name": "Python 3",
   "language": "python",
   "name": "python3"
  },
  "language_info": {
   "codemirror_mode": {
    "name": "ipython",
    "version": 3
   },
   "file_extension": ".py",
   "mimetype": "text/x-python",
   "name": "python",
   "nbconvert_exporter": "python",
   "pygments_lexer": "ipython3",
   "version": "3.7.6"
  }
 },
 "nbformat": 4,
 "nbformat_minor": 4
}
