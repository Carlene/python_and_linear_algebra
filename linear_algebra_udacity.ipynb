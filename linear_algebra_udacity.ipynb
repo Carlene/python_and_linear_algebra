{
 "cells": [
  {
   "cell_type": "markdown",
   "id": "a45fef79",
   "metadata": {},
   "source": [
    "rules for adding vectors\n",
    "\n",
    "[x1, y1] + [x2, y2] = [(x1 + x2), (y1 +y2)]\n",
    "\n",
    "rules for subtracting vectors\n",
    "\n",
    "[x1, y1] - [x2, y2] =  [(x1 - x2), (y1 +y2)]\n",
    "\n",
    "rules for multiplying vectors \n",
    "\n"
   ]
  },
  {
   "cell_type": "code",
   "execution_count": null,
   "id": "3280b6e8",
   "metadata": {},
   "outputs": [],
   "source": []
  }
 ],
 "metadata": {
  "kernelspec": {
   "display_name": "Python 3",
   "language": "python",
   "name": "python3"
  },
  "language_info": {
   "codemirror_mode": {
    "name": "ipython",
    "version": 3
   },
   "file_extension": ".py",
   "mimetype": "text/x-python",
   "name": "python",
   "nbconvert_exporter": "python",
   "pygments_lexer": "ipython3",
   "version": "3.9.0"
  }
 },
 "nbformat": 4,
 "nbformat_minor": 5
}
