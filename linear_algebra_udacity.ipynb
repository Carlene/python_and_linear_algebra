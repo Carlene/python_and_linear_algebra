{
 "cells": [
  {
   "cell_type": "markdown",
   "id": "ce03d925",
   "metadata": {},
   "source": [
    "**rules for adding vectors**\n",
    "\n",
    "[x1, y1] + [x2, y2] = [(x1 + x2), (y1 + y2)]\n",
    "\n",
    "**rules for subtracting vectors**\n",
    "\n",
    "[x1, y1] - [x2, y2] =  [(x1 - x2), (y1 - y2)]\n",
    "\n",
    "**rules for multiplying vectors**\n",
    "\n",
    "m * [x,y,z] = [(m * x), (m * y), (m * z)]\n"
   ]
  },
  {
   "cell_type": "code",
   "execution_count": 1,
   "id": "31c435e5",
   "metadata": {},
   "outputs": [],
   "source": [
    "def adding_vectors(vector1, vector2):\n",
    "    x = vector1[0] + vector2[0]\n",
    "    y = vector1[1] + vector2[1]\n",
    "    \n",
    "    summed_vectors = [x, y]\n",
    "    \n",
    "    return summed_vectors"
   ]
  },
  {
   "cell_type": "code",
   "execution_count": 2,
   "id": "dc88512f",
   "metadata": {},
   "outputs": [],
   "source": [
    "def test(result, actual):\n",
    "    if result == actual:\n",
    "        print(\"Great job!\")\n",
    "    else:\n",
    "        print(f\"Function gave {result} but the answer should be {actual}\")"
   ]
  },
  {
   "cell_type": "code",
   "execution_count": 3,
   "id": "ca9ffc02",
   "metadata": {},
   "outputs": [
    {
     "name": "stdout",
     "output_type": "stream",
     "text": [
      "Great job!\n",
      "Great job!\n",
      "Great job!\n"
     ]
    }
   ],
   "source": [
    "test(adding_vectors([1,2], [1,2]), [2,4])\n",
    "test(adding_vectors([1,2], [-1,-2]), [0,0])\n",
    "test(adding_vectors([1,2], [-4,5]), [-3,7])"
   ]
  },
  {
   "cell_type": "code",
   "execution_count": 4,
   "id": "9f38072b",
   "metadata": {},
   "outputs": [],
   "source": [
    "def subtracting_vectors(vector1, vector2):\n",
    "    x = vector1[0] - vector2[0]\n",
    "    y = vector1[1] - vector2[1]\n",
    "    \n",
    "    difference = [x, y]\n",
    "    \n",
    "    return difference"
   ]
  },
  {
   "cell_type": "code",
   "execution_count": 5,
   "id": "6a2be215",
   "metadata": {},
   "outputs": [
    {
     "name": "stdout",
     "output_type": "stream",
     "text": [
      "Great job!\n",
      "Great job!\n",
      "Great job!\n"
     ]
    }
   ],
   "source": [
    "test(subtracting_vectors([1,2], [1,2]), [0,0])\n",
    "test(subtracting_vectors([1,2], [-1,-2]), [2,4])\n",
    "test(subtracting_vectors([1,2], [-4,5]), [5,-3])"
   ]
  },
  {
   "cell_type": "code",
   "execution_count": 6,
   "id": "0f1a9312",
   "metadata": {},
   "outputs": [],
   "source": [
    "def multiplying_vectors(multiplier, vector):\n",
    "    x = multiplier * vector[0]\n",
    "    y = multiplier * vector[1]\n",
    "    z = multiplier * vector[2]\n",
    "    \n",
    "    product = [x, y, z]\n",
    "    \n",
    "    return product"
   ]
  },
  {
   "cell_type": "code",
   "execution_count": 7,
   "id": "f1e040a0",
   "metadata": {},
   "outputs": [
    {
     "name": "stdout",
     "output_type": "stream",
     "text": [
      "Great job!\n",
      "Great job!\n",
      "Great job!\n"
     ]
    }
   ],
   "source": [
    "test(multiplying_vectors(2, [1,2,3]), [2,4,6])\n",
    "test(multiplying_vectors(-2, [1,2,3]), [-2,-4,-6])\n",
    "test(multiplying_vectors(1, [-4,5,0]), [-4,5,0])"
   ]
  },
  {
   "cell_type": "code",
   "execution_count": 8,
   "id": "1c775a92",
   "metadata": {},
   "outputs": [
    {
     "data": {
      "text/plain": [
       "[7.089, -7.229999999999999]"
      ]
     },
     "execution_count": 8,
     "metadata": {},
     "output_type": "execute_result"
    }
   ],
   "source": [
    "adding_vectors([8.218, -9.341], [-1.129, 2.111])"
   ]
  },
  {
   "cell_type": "code",
   "execution_count": 9,
   "id": "f2d3c8c5",
   "metadata": {},
   "outputs": [
    {
     "data": {
      "text/plain": [
       "[15.342, 7.337]"
      ]
     },
     "execution_count": 9,
     "metadata": {},
     "output_type": "execute_result"
    }
   ],
   "source": [
    "subtracting_vectors([7.119, 8.215],[-8.223, 0.878])"
   ]
  },
  {
   "cell_type": "code",
   "execution_count": 10,
   "id": "79b4f6a8",
   "metadata": {},
   "outputs": [
    {
     "data": {
      "text/plain": [
       "[12.38211, -7.49892, -2.35638]"
      ]
     },
     "execution_count": 10,
     "metadata": {},
     "output_type": "execute_result"
    }
   ],
   "source": [
    "multiplying_vectors(7.41, [1.671, -1.012, -0.318])"
   ]
  },
  {
   "cell_type": "markdown",
   "id": "51147f0d",
   "metadata": {},
   "source": [
    "**compute vector's magnitude (length of a vector)**\n",
    "\n",
    "||vhat|| = sqrt(vx^2 + vy^2)\n",
    "(because of Pythagorean theorem)\n",
    "\n",
    "* vhat = vector\n",
    "* ||vhat|| = magnitude\n",
    "* vx = change in distance of x position of vector\n",
    "* vy = change in distance of y position of vector"
   ]
  },
  {
   "cell_type": "markdown",
   "id": "30861a82",
   "metadata": {},
   "source": [
    "**compute the direction a vector is pointing**\n",
    "\n",
    "the unit vector keeps only direction information of the vector but the magnitude (length) gets normalized to 1\n",
    "\n",
    "unit vector = (1/||vhat||) * vhat\n",
    "\n",
    "* ex.\n",
    "\n",
    "   vhat = [3, 4]  \n",
    "   magnitude = sqrt(3^2 + 4^2)  \n",
    "   magnitude = 5  \n",
    "\n",
    "   unit vector = (1/magnitude) * vector  \n",
    "   unit vector = (1/5) * [3,4]  \n",
    "   unit vector = [(1/5 * 3), (1/5 * 4)]  \n",
    "   unit vector = [0.6, 0.8]  \n",
    "\n",
    "(to doublecheck that magnitude is 1)\n",
    "* magnitude = sqrt(0.6^2 + 0.8^2)\n",
    "* magnitude = sqrt(0.36 + 0.64)\n",
    "* magnitude = sqrt(1) = 1"
   ]
  },
  {
   "cell_type": "code",
   "execution_count": 149,
   "id": "2f3b636c",
   "metadata": {},
   "outputs": [],
   "source": [
    "import math\n",
    "from decimal import *"
   ]
  },
  {
   "cell_type": "code",
   "execution_count": 218,
   "id": "7bff4af6",
   "metadata": {},
   "outputs": [],
   "source": [
    "def turn_vector_float_to_decimal(v):\n",
    "    # need to turn floats into strings before turning them into decimal types,\n",
    "    # otherwise will still have float inaccuracy\n",
    "    \n",
    "    getcontext().prec = 6 \n",
    "    new_vector = []\n",
    "    \n",
    "    for component in v:\n",
    "        component = str(component)\n",
    "        component = Decimal(component)\n",
    "        new_vector.append(component)\n",
    "    \n",
    "    return new_vector"
   ]
  },
  {
   "cell_type": "code",
   "execution_count": 219,
   "id": "cbb53872",
   "metadata": {},
   "outputs": [],
   "source": [
    "def find_vector_magnitude(vector):\n",
    "    new_v = turn_vector_float_to_decimal(vector)\n",
    "    magnitude = 0\n",
    "    square = 0\n",
    "    \n",
    "    for value in new_v:\n",
    "        square += (value ** 2)\n",
    "        \n",
    "    magnitude = square ** Decimal('0.5')\n",
    "    \n",
    "    return magnitude"
   ]
  },
  {
   "cell_type": "code",
   "execution_count": 220,
   "id": "a75adae3",
   "metadata": {},
   "outputs": [
    {
     "name": "stdout",
     "output_type": "stream",
     "text": [
      "Great job!\n",
      "Great job!\n",
      "Great job!\n"
     ]
    }
   ],
   "source": [
    "test(find_vector_magnitude([3, 4]), 5)\n",
    "test(find_vector_magnitude([5, 12]), 13)\n",
    "test(find_vector_magnitude([65, 72]), 97)"
   ]
  },
  {
   "cell_type": "code",
   "execution_count": 221,
   "id": "9234eaeb",
   "metadata": {},
   "outputs": [],
   "source": [
    "def find_unit_vector(vector):\n",
    "    new_v = turn_vector_float_to_decimal(vector)\n",
    "    unit_vector = []\n",
    "    raw_unit_vector = 0\n",
    "    magnitude = find_vector_magnitude(vector)\n",
    "    \n",
    "    for value in new_v:\n",
    "        raw_unit_vector = (1/magnitude) * value\n",
    "        unit_vector.append(raw_unit_vector)\n",
    "#         unit_vector.append(round(raw_unit_vector, 3))\n",
    "    \n",
    "    return unit_vector"
   ]
  },
  {
   "cell_type": "code",
   "execution_count": 222,
   "id": "3bcea29d",
   "metadata": {},
   "outputs": [
    {
     "name": "stdout",
     "output_type": "stream",
     "text": [
      "Function gave [Decimal('-0.577351'), Decimal('0.577351'), Decimal('0.577351')] but the answer should be [-0.577, 0.577, 0.577]\n"
     ]
    }
   ],
   "source": [
    "test((find_unit_vector([-1, 1, 1])), \n",
    "     [round((-1 * (1/3)**(1/2)), 3), round((1 * (1/3)**(1/2)), 3), round((1 * (1/3)**(1/2)), 3)])"
   ]
  },
  {
   "cell_type": "code",
   "execution_count": 223,
   "id": "c26c97aa",
   "metadata": {},
   "outputs": [
    {
     "data": {
      "text/plain": [
       "Decimal('7.44028')"
      ]
     },
     "execution_count": 223,
     "metadata": {},
     "output_type": "execute_result"
    }
   ],
   "source": [
    "find_vector_magnitude([-0.221, 7.437])"
   ]
  },
  {
   "cell_type": "code",
   "execution_count": 224,
   "id": "edf480cb",
   "metadata": {},
   "outputs": [
    {
     "data": {
      "text/plain": [
       "Decimal('10.8842')"
      ]
     },
     "execution_count": 224,
     "metadata": {},
     "output_type": "execute_result"
    }
   ],
   "source": [
    "find_vector_magnitude([8.813, -1.331, -6.247])"
   ]
  },
  {
   "cell_type": "code",
   "execution_count": 225,
   "id": "a6acd6be",
   "metadata": {},
   "outputs": [
    {
     "data": {
      "text/plain": [
       "[Decimal('0.933936'), Decimal('-0.357443')]"
      ]
     },
     "execution_count": 225,
     "metadata": {},
     "output_type": "execute_result"
    }
   ],
   "source": [
    "find_unit_vector([5.581, -2.136])"
   ]
  },
  {
   "cell_type": "code",
   "execution_count": 226,
   "id": "87daa41b",
   "metadata": {},
   "outputs": [
    {
     "data": {
      "text/plain": [
       "[Decimal('0.340402'), Decimal('0.530045'), Decimal('-0.776648')]"
      ]
     },
     "execution_count": 226,
     "metadata": {},
     "output_type": "execute_result"
    }
   ],
   "source": [
    "find_unit_vector([1.996, 3.108, -4.554])"
   ]
  },
  {
   "cell_type": "markdown",
   "id": "c9fff184",
   "metadata": {},
   "source": [
    "**inner product/dot product**\n",
    "\n",
    "the dot product is calculated by:\n",
    "\n",
    "v-hat · w-hat = (v1 * w1) + (v2 * w2) + (v3 * w3) .... + (vn * wn)\n",
    "\n",
    "it allows you to find the angle between two vectors that start from the same point:\n",
    "\n",
    "v-hat · w-hat = ||v-hat|| * ||w-hat|| * cos(Θ)\n",
    "Θ(theta) = the angle between two vectors\n",
    "\n",
    "to find theta:\n",
    "\n",
    "   Θ = arccos((v-hat · w-hat)/(||v-hat|| * ||w-hat||))  \n",
    "   *theta = arcos((vector1 · vector2)/(v-magnitude * w-magnitude))*  \n",
    "\n",
    "this is equivalent to:\n",
    "\n",
    "   Θ = arccos(((1/||vhat||) * vhat) · ((1/||w-hat||) * w-hat))  \n",
    "   *theta = arcos(unit product of v · unit product of w*  \n",
    "   \n",
    "\n"
   ]
  },
  {
   "cell_type": "code",
   "execution_count": 227,
   "id": "dd430ff3",
   "metadata": {},
   "outputs": [],
   "source": [
    "def dot_product(v, w):\n",
    "    new_v = turn_vector_float_to_decimal(v)\n",
    "    new_w = turn_vector_float_to_decimal(w)\n",
    "    dot_product = 0\n",
    "    \n",
    "    for i in range(len(v)):\n",
    "        dot_product += new_v[i] * new_w[i]\n",
    "        \n",
    "    return dot_product"
   ]
  },
  {
   "cell_type": "code",
   "execution_count": 228,
   "id": "cd421002",
   "metadata": {},
   "outputs": [
    {
     "name": "stdout",
     "output_type": "stream",
     "text": [
      "Great job!\n",
      "Great job!\n",
      "Great job!\n",
      "Great job!\n"
     ]
    }
   ],
   "source": [
    "test(dot_product([1, 2], [3, 4]), 11)\n",
    "test(dot_product([-1, 2], [3, 4]), 5)\n",
    "test(dot_product([10, 20], [30, 40]), 1100)\n",
    "test(dot_product([1, 2], [0, 0]), 0)"
   ]
  },
  {
   "cell_type": "code",
   "execution_count": 229,
   "id": "eb2c5d07",
   "metadata": {},
   "outputs": [],
   "source": [
    "def angle_between_two_vectors_in_radians(v, w):\n",
    "    new_v = turn_vector_float_to_decimal(v)\n",
    "    new_w = turn_vector_float_to_decimal(w)\n",
    "    \n",
    "    inner_product = dot_product(new_v, new_w)\n",
    "    v_magnitude = find_vector_magnitude(new_v)\n",
    "    w_magnitude = find_vector_magnitude(new_w)\n",
    "    \n",
    "    angle_in_radians = math.acos(inner_product/(v_magnitude * w_magnitude))\n",
    "#     angle_in_radians = round(angle_in_radians, 3)\n",
    "    \n",
    "    return angle_in_radians"
   ]
  },
  {
   "cell_type": "code",
   "execution_count": 230,
   "id": "5dee354b",
   "metadata": {},
   "outputs": [
    {
     "name": "stdout",
     "output_type": "stream",
     "text": [
      "Great job!\n"
     ]
    }
   ],
   "source": [
    "test(round(angle_between_two_vectors_in_radians([1, 2, -1], [3, 1, 0]), 3), 0.869)"
   ]
  },
  {
   "cell_type": "code",
   "execution_count": 231,
   "id": "588cbd56",
   "metadata": {},
   "outputs": [],
   "source": [
    "def angle_between_two_vectors_in_degrees(v, w):\n",
    "    angle_in_radians = angle_between_two_vectors_in_radians(v,w)\n",
    "    \n",
    "    angle_in_degrees = math.degrees(angle_in_radians)\n",
    "#     angle_in_degrees = round(angle_in_degrees, 3)\n",
    "    \n",
    "    return angle_in_degrees"
   ]
  },
  {
   "cell_type": "code",
   "execution_count": 232,
   "id": "b9cc0a4a",
   "metadata": {},
   "outputs": [
    {
     "name": "stdout",
     "output_type": "stream",
     "text": [
      "Great job!\n"
     ]
    }
   ],
   "source": [
    "test(round(angle_between_two_vectors_in_degrees([1, 2, -1], [3, 1, 0]), 3), 49.797)"
   ]
  },
  {
   "cell_type": "code",
   "execution_count": 233,
   "id": "ae3654b9",
   "metadata": {},
   "outputs": [
    {
     "name": "stdout",
     "output_type": "stream",
     "text": [
      "-41.3823\n",
      "56.3972\n"
     ]
    }
   ],
   "source": [
    "print(dot_product([7.887, 4.138], [-8.802, 6.776]))\n",
    "print(dot_product([-5.955, -4.904, -1.874], [-4.496, -8.755, 7.103]))"
   ]
  },
  {
   "cell_type": "code",
   "execution_count": 234,
   "id": "dd26368d",
   "metadata": {},
   "outputs": [
    {
     "name": "stdout",
     "output_type": "stream",
     "text": [
      "3.072008507449377\n",
      "60.27583350578534\n"
     ]
    }
   ],
   "source": [
    "print(angle_between_two_vectors_in_radians([3.183, -7.627], [-2.668, 5.319]))\n",
    "print(angle_between_two_vectors_in_degrees([7.35, 0.221, 5.188], [2.751, 8.259, 3.985]))"
   ]
  },
  {
   "cell_type": "markdown",
   "id": "2452a672",
   "metadata": {},
   "source": [
    "**Parallel**\n",
    "\n",
    "Two vectors are parallel if one is a scalar multiple of another\n",
    "ex. v-hat (v) is parallel to:\n",
    "* 2v\n",
    "* (1/2)v\n",
    "* -v\n",
    "\n",
    "Vectors can be parallel even if they point away from each other\n",
    "\n",
    "**Orthogonal (perpendicular)**\n",
    "\n",
    "Vectors are orthogonal if their dot product is 0 \n",
    "\n",
    "*The zero vector is parallel and orthogonal to all vectors, and is the only vector orthogonal to itself*"
   ]
  },
  {
   "cell_type": "code",
   "execution_count": 235,
   "id": "e888aca0",
   "metadata": {},
   "outputs": [
    {
     "name": "stdout",
     "output_type": "stream",
     "text": [
      "Function gave [Decimal('2'), Decimal('4'), Decimal('8')] but the answer should be ['2', '4', '8']\n",
      "Function gave [Decimal('-2.328'), Decimal('-7.284'), Decimal('-1.214')] but the answer should be ['-2.328', '-7.284', '-1.214']\n",
      "Function gave [Decimal('0'), Decimal('0')] but the answer should be ['0', '0']\n"
     ]
    }
   ],
   "source": [
    "test(turn_vector_float_to_decimal([2, 4, 8]), [\"2\", \"4\", \"8\"])\n",
    "test(turn_vector_float_to_decimal([-2.328, -7.284, -1.214]), [\"-2.328\", \"-7.284\", \"-1.214\"])\n",
    "test(turn_vector_float_to_decimal([0, 0]), [\"0\", \"0\"])"
   ]
  },
  {
   "cell_type": "code",
   "execution_count": 236,
   "id": "9a234677",
   "metadata": {},
   "outputs": [],
   "source": [
    "def check_scalar_multiple(v, w):\n",
    "    new_v = turn_vector_float_to_decimal(v)\n",
    "    new_w = turn_vector_float_to_decimal(w)\n",
    "    dividend = 0\n",
    "    equal_dividend = 0\n",
    "    \n",
    "    for component in range(len(v) - 1):\n",
    "        if new_w[component] == 0:\n",
    "            dividend = new_w[component]/new_v[component]\n",
    "            next_dividend = new_w[component + 1]/new_v[component + 1]\n",
    "            if dividend == next_dividend:\n",
    "                equal_dividend +=1\n",
    "        \n",
    "        else:\n",
    "            dividend = new_v[component]/new_w[component]\n",
    "            next_dividend = new_v[component + 1]/new_w[component + 1]\n",
    "            if dividend == next_dividend:\n",
    "                equal_dividend +=1\n",
    "    \n",
    "    return equal_dividend"
   ]
  },
  {
   "cell_type": "code",
   "execution_count": 237,
   "id": "c370cf6e",
   "metadata": {},
   "outputs": [
    {
     "name": "stdout",
     "output_type": "stream",
     "text": [
      "Great job!\n",
      "Great job!\n",
      "Great job!\n"
     ]
    }
   ],
   "source": [
    "test(check_scalar_multiple([2, 4, 8], [4, 8, 16]), 2)\n",
    "test(check_scalar_multiple([1, 2], [0, 0]), 1)\n",
    "test(check_scalar_multiple([2, 5], [4, 8]), 0)"
   ]
  },
  {
   "cell_type": "code",
   "execution_count": 238,
   "id": "f321a5ea",
   "metadata": {},
   "outputs": [],
   "source": [
    "def check_vector_geometry(v, w):\n",
    "    inner_product = dot_product(v, w)\n",
    "    scalar_multiple_count = check_scalar_multiple(v, w)\n",
    "    length = len(v) - 1\n",
    "    orthogonal = \"Vectors are orthogonal\"\n",
    "    parallel = \"Vectors are parallel\"\n",
    "    neither = \"Vectors are neither parallel nor orthogonal\"\n",
    "    \n",
    "    if inner_product == 0:\n",
    "        if scalar_multiple_count == length:\n",
    "            return orthogonal, parallel\n",
    "        else:\n",
    "            return orthogonal\n",
    "    elif scalar_multiple_count == length:\n",
    "        return parallel        \n",
    "    else:\n",
    "        return neither"
   ]
  },
  {
   "cell_type": "code",
   "execution_count": 239,
   "id": "3a4ccb3d",
   "metadata": {},
   "outputs": [
    {
     "name": "stdout",
     "output_type": "stream",
     "text": [
      "Great job!\n",
      "Great job!\n",
      "Great job!\n"
     ]
    }
   ],
   "source": [
    "test(check_vector_geometry([2, 4, 8], [4, 8, 16]), \"Vectors are parallel\")\n",
    "test(check_vector_geometry([1, 2], [0, 0]), (\"Vectors are orthogonal\", \"Vectors are parallel\"))\n",
    "test(check_vector_geometry([2, 5], [4, 8]), \"Vectors are neither parallel nor orthogonal\")"
   ]
  },
  {
   "cell_type": "code",
   "execution_count": 240,
   "id": "cf9b5df7",
   "metadata": {},
   "outputs": [
    {
     "data": {
      "text/plain": [
       "'Vectors are parallel'"
      ]
     },
     "execution_count": 240,
     "metadata": {},
     "output_type": "execute_result"
    }
   ],
   "source": [
    "check_vector_geometry([-7.579, -7.88], [22.737, 23.64])"
   ]
  },
  {
   "cell_type": "code",
   "execution_count": 241,
   "id": "55cc303a",
   "metadata": {},
   "outputs": [
    {
     "data": {
      "text/plain": [
       "'Vectors are neither parallel nor orthogonal'"
      ]
     },
     "execution_count": 241,
     "metadata": {},
     "output_type": "execute_result"
    }
   ],
   "source": [
    "check_vector_geometry([-2.029, 9.97, 4.172], [-9.231, -6.639, -7.245])"
   ]
  },
  {
   "cell_type": "code",
   "execution_count": 242,
   "id": "24d35e65",
   "metadata": {},
   "outputs": [
    {
     "data": {
      "text/plain": [
       "'Vectors are orthogonal'"
      ]
     },
     "execution_count": 242,
     "metadata": {},
     "output_type": "execute_result"
    }
   ],
   "source": [
    "check_vector_geometry([-2.328, -7.284, -1.214], [-1.821, 1.072, -2.94])"
   ]
  },
  {
   "cell_type": "code",
   "execution_count": 243,
   "id": "d38cd216",
   "metadata": {},
   "outputs": [
    {
     "data": {
      "text/plain": [
       "('Vectors are orthogonal', 'Vectors are parallel')"
      ]
     },
     "execution_count": 243,
     "metadata": {},
     "output_type": "execute_result"
    }
   ],
   "source": [
    "check_vector_geometry([2.118, 4.827], [0, 0])"
   ]
  },
  {
   "cell_type": "code",
   "execution_count": null,
   "id": "efe51745",
   "metadata": {},
   "outputs": [],
   "source": []
  }
 ],
 "metadata": {
  "kernelspec": {
   "display_name": "Python 3",
   "language": "python",
   "name": "python3"
  },
  "language_info": {
   "codemirror_mode": {
    "name": "ipython",
    "version": 3
   },
   "file_extension": ".py",
   "mimetype": "text/x-python",
   "name": "python",
   "nbconvert_exporter": "python",
   "pygments_lexer": "ipython3",
   "version": "3.9.0"
  }
 },
 "nbformat": 4,
 "nbformat_minor": 5
}
